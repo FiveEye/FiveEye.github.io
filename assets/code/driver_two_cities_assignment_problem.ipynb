{
 "cells": [
  {
   "cell_type": "code",
   "execution_count": 16,
   "metadata": {},
   "outputs": [],
   "source": [
    "def solve(drivers, A, B):\n",
    "    drivers = sorted(drivers, key=lambda x: (x[1]-x[0],-x[0]))\n",
    "    print(drivers)\n",
    "    n = len(drivers)\n",
    "    m = A + B\n",
    "    dp = [[0 for _ in range(n+1)] for _ in range(m+1)]\n",
    "    for i in range(1,m+1):\n",
    "        for j in range(n):\n",
    "            if i <= A:\n",
    "                t = drivers[j][0]\n",
    "            else:\n",
    "                t = drivers[j][1]\n",
    "            dp[i][j] = max(dp[i][j-1], dp[i-1][j-1] + t)\n",
    "    return dp[m][n-1]"
   ]
  },
  {
   "cell_type": "code",
   "execution_count": 17,
   "metadata": {},
   "outputs": [
    {
     "name": "stdout",
     "output_type": "stream",
     "text": [
      "[(5, 3), (4, 2), (5, 4), (3, 3), (1, 5)]\n"
     ]
    },
    {
     "data": {
      "text/plain": [
       "18"
      ]
     },
     "execution_count": 17,
     "metadata": {},
     "output_type": "execute_result"
    }
   ],
   "source": [
    "drivers = [(4,2),(3,3),(5,4),(5,3),(1,5)]\n",
    "A = 2\n",
    "B = 2\n",
    "solve(drivers, A, B)"
   ]
  },
  {
   "cell_type": "code",
   "execution_count": 18,
   "metadata": {},
   "outputs": [
    {
     "name": "stdout",
     "output_type": "stream",
     "text": [
      "[(99, 0), (100, 99)]\n"
     ]
    },
    {
     "data": {
      "text/plain": [
       "198"
      ]
     },
     "execution_count": 18,
     "metadata": {},
     "output_type": "execute_result"
    }
   ],
   "source": [
    "drivers = [(100,99),(99,0)]\n",
    "A = 1\n",
    "B = 1\n",
    "solve(drivers, A, B)"
   ]
  }
 ],
 "metadata": {
  "kernelspec": {
   "display_name": "Python 3",
   "language": "python",
   "name": "python3"
  },
  "language_info": {
   "codemirror_mode": {
    "name": "ipython",
    "version": 3
   },
   "file_extension": ".py",
   "mimetype": "text/x-python",
   "name": "python",
   "nbconvert_exporter": "python",
   "pygments_lexer": "ipython3",
   "version": "3.8.2"
  }
 },
 "nbformat": 4,
 "nbformat_minor": 4
}
